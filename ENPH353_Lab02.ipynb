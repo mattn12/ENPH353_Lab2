{
  "cells": [
    {
      "cell_type": "markdown",
      "metadata": {
        "id": "view-in-github",
        "colab_type": "text"
      },
      "source": [
        "<a href=\"https://colab.research.google.com/github/mattn12/ENPH353_Lab2/blob/main/ENPH353_Lab02.ipynb\" target=\"_parent\"><img src=\"https://colab.research.google.com/assets/colab-badge.svg\" alt=\"Open In Colab\"/></a>"
      ]
    },
    {
      "cell_type": "markdown",
      "metadata": {
        "id": "3gO5MBFcYxHx"
      },
      "source": [
        "#ENPH 253 Lab 2"
      ]
    },
    {
      "cell_type": "code",
      "execution_count": 3,
      "metadata": {
        "colab": {
          "base_uri": "https://localhost:8080/"
        },
        "id": "HJNfo40MUcvR",
        "outputId": "fab29a41-69c3-4e40-a191-98632c65bb8d"
      },
      "outputs": [
        {
          "output_type": "stream",
          "name": "stdout",
          "text": [
            "Frame missing.\n"
          ]
        }
      ],
      "source": [
        "import cv2\n",
        "\n",
        "import matplotlib.pyplot as plt\n",
        "\n",
        "cv2.__version__\n",
        "\n",
        "# Open a video file to read from it:\n",
        "video_name = \"/content/drive/MyDrive/UBC 2022/ENPH 353/raw_video_feed.mp4\"\n",
        "video_reader = cv2.VideoCapture(video_name)\n",
        "ret, frame = video_reader.read()\n",
        "\n",
        "# Create a video file to write to:\n",
        "shape = frame.shape\n",
        "fourcc = cv2.VideoWriter_fourcc(*'MJPG')\n",
        "video_writer = cv2.VideoWriter('output.mp4', fourcc, 20, (shape[1], shape[0]))\n",
        "\n",
        "#radius of circle to track line\n",
        "radius = 20\n",
        "\n",
        "while video_reader.isOpened():\n",
        "  #read the next frame from the video\n",
        "  ret, frame = video_reader.read()\n",
        "  \n",
        "  if ret:\n",
        "    gray = cv2.cvtColor(frame, cv2.COLOR_RGB2GRAY)\n",
        "    color = cv2.cvtColor(gray, cv2.COLOR_GRAY2BGR)\n",
        "    \n",
        "    #resize frame for faster processing\n",
        "    size = 100\n",
        "    resize = cv2.resize(color, (size, size))\n",
        "\n",
        "    #converting image frames to binary\n",
        "    threshold = 94\n",
        "    _, img_bin = cv2.threshold(resize, threshold, 255, cv2.THRESH_BINARY)\n",
        "    \n",
        "    \n",
        "    #set start values for for loop\n",
        "    width = 0\n",
        "    start = 0\n",
        "    started = False\n",
        "    \n",
        "    #look for path (only looking at bottom row)\n",
        "    for x in range(size):\n",
        "      \n",
        "      #mark the start of the path\n",
        "      if (img_bin[size-1][x][0] == 0) and not started:\n",
        "        start = x\n",
        "        started = True\n",
        "        width += 1\n",
        "      #increment path width\n",
        "      elif img_bin[size-1][x][0] == 0:\n",
        "        width += 1\n",
        "\n",
        "\n",
        "    #calculate where to place center of circle (x-axis)  \n",
        "    place = (int (width/2)) + start\n",
        "    #scale circle to current image size (to rescale to original)\n",
        "    place = place/size\n",
        "\n",
        "    #add circle to origina image\n",
        "    color = cv2.circle(color, (int(shape[1]*place), shape[0]-radius), radius, (0,0,255), -1)\n",
        "\n",
        "    #write image to video\n",
        "    video_writer.write(color)\n",
        "\n",
        "    #plot images\n",
        "    #plt.imshow(color)\n",
        "    #plt.show()\n",
        "  else:\n",
        "    print(\"End of video\")\n",
        "    #close video reader and writer\n",
        "    video_reader.release()\n",
        "    video_writer.release()\n",
        "\n"
      ]
    }
  ],
  "metadata": {
    "accelerator": "GPU",
    "colab": {
      "provenance": [],
      "collapsed_sections": [],
      "mount_file_id": "1IjjdxyMzdRGYNt9TuwgamzhHVnOpDe_a",
      "authorship_tag": "ABX9TyNsTVd+GjDP412URs15yZzp",
      "include_colab_link": true
    },
    "kernelspec": {
      "display_name": "Python 3",
      "name": "python3"
    },
    "language_info": {
      "name": "python"
    }
  },
  "nbformat": 4,
  "nbformat_minor": 0
}